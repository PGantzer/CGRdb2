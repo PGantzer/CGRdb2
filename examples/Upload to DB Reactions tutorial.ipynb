{
 "cells": [
  {
   "cell_type": "code",
   "execution_count": null,
   "metadata": {},
   "outputs": [],
   "source": [
    "# If database is not empty and wanted to be clean, uncommit\n",
    "#from CGRdb.database import db\n",
    "#from pony.orm import db_session\n",
    "#from CGRdb.database.config import Config\n",
    "#db.bind(provider='postgres', user='postgres', host='localhost', password=\"example\", database='test',\n",
    "#        port=5432)\n",
    "#db.generate_mapping(create_tables=True)\n",
    "#db.drop_all_tables(with_all_data=True)\n",
    "#db.commit()\n",
    "#db.disconnect()\n",
    "#db.unbind()"
   ]
  },
  {
   "cell_type": "code",
   "execution_count": null,
   "metadata": {},
   "outputs": [],
   "source": [
    "# Connect to databse and create tables\n",
    "from CGRdb.database import db\n",
    "import zipfile\n",
    "db.bind(provider='postgres', user='postgres', host='localhost', password=\"example\", database='test',\n",
    "        port=5432)\n",
    "db.generate_mapping(create_tables=True)"
   ]
  },
  {
   "cell_type": "code",
   "execution_count": null,
   "metadata": {},
   "outputs": [],
   "source": [
    "# DB settings for fingerprints(linera fingerprints) and LSH(please refer to datasketch library)\n",
    "from CGRdb.database.config import Config\n",
    "db.execute(\"Create extension if not exists intarray;\")\n",
    "Config(key=\"fingerprint\",value={\"min_radius\":1, \"max_radius\":4, \"length\":1024,\n",
    "                 \"number_active_bits\":2, \"number_bit_pairs\":4, \"include_hydrogens\":False})\n",
    "Config(key=\"lsh_num_permute\",value=64)\n",
    "Config(key=\"lsh_threshold\",value=0.7)\n",
    "db.commit()\n",
    "db.disconnect()\n",
    "db.unbind()"
   ]
  },
  {
   "cell_type": "code",
   "execution_count": null,
   "metadata": {},
   "outputs": [],
   "source": [
    "from CGRdb.database import db\n",
    "from time import time\n",
    "from pony.orm import db_session\n",
    "from CGRtools import smiles, SMILESRead, ReactionContainer\n",
    "from CGRdb.database import Molecule, MoleculeStructure, Reaction, Substance\n",
    "from multiprocessing import Process, Queue\n",
    "from tqdm import tqdm\n",
    "from CGRtools.exceptions import InvalidAromaticRing, IncorrectSmiles, ValenceError, MappingError, EmptyMolecule"
   ]
  },
  {
   "cell_type": "code",
   "execution_count": null,
   "metadata": {},
   "outputs": [],
   "source": [
    "# loader into the database with datacleaning procedure\n",
    "def worker(q):\n",
    "    db.bind(provider='postgres', user='postgres', host='localhost', password=\"example\", database='test',\n",
    "        port=5432)\n",
    "    db.generate_mapping()\n",
    "    while True:\n",
    "        data = q.get()\n",
    "        if data is None:\n",
    "            break\n",
    "        reaction = smiles(data)\n",
    "        try:\n",
    "            reaction.canonicalize()\n",
    "        except (InvalidAromaticRing, IncorrectSmiles, ValenceError, MappingError):\n",
    "            print(reaction)\n",
    "            continue\n",
    "        # putting reaction into the DB in 10 attempts due to parallel loading\n",
    "        for _ in range(10):\n",
    "            try:\n",
    "                with db_session():\n",
    "                    Reaction(reaction, cgr=False) # change here to include storage of CGRs in DB\n",
    "                    break\n",
    "            except Exception:\n",
    "                continue\n",
    "    print(\"finished\")"
   ]
  },
  {
   "cell_type": "code",
   "execution_count": null,
   "metadata": {
    "scrolled": true
   },
   "outputs": [],
   "source": [
    "# define number of workers\n",
    "num_workers=10\n",
    "q = Queue(maxsize=num_workers*2)\n",
    "pr = [Process(target=worker, \n",
    "              args=[q], ) for _ in range(num_workers)]\n",
    "[p.start() for p in pr]"
   ]
  },
  {
   "cell_type": "code",
   "execution_count": null,
   "metadata": {},
   "outputs": [],
   "source": [
    "# put reactions into the que for uploading\n",
    "with zipfile.ZipFile(\"../dataset/USPTO_mapped_cleaned_rxn_map.smi.zip\", 'r') as zip_ref:\n",
    "    zip_ref.extractall(\"\")\n",
    "with open(\"USPTO_mapped_cleaned_rxn_map.smi\") as f:\n",
    "    for cgr in tqdm(f):\n",
    "        q.put(cgr.strip(\"\\n\"))\n",
    "    for i in range(num_workers):\n",
    "        q.put(None)"
   ]
  },
  {
   "cell_type": "code",
   "execution_count": null,
   "outputs": [],
   "source": [
    "# generate indexes for database\n",
    "\n",
    "db.bind(provider='postgres', user='postgres', host='localhost', password=\"example\", database='test',\n",
    "        port=5432)\n",
    "db.generate_mapping()\n",
    "db.create_fing_index()\n",
    "db.create_sim_index()"
   ],
   "metadata": {
    "collapsed": false,
    "pycharm": {
     "name": "#%%\n"
    }
   }
  }
 ],
 "metadata": {
  "kernelspec": {
   "display_name": "last_cgr",
   "language": "python",
   "name": "last_cgr"
  },
  "language_info": {
   "codemirror_mode": {
    "name": "ipython",
    "version": 3
   },
   "file_extension": ".py",
   "mimetype": "text/x-python",
   "name": "python",
   "nbconvert_exporter": "python",
   "pygments_lexer": "ipython3",
   "version": "3.8.0"
  }
 },
 "nbformat": 4,
 "nbformat_minor": 5
}