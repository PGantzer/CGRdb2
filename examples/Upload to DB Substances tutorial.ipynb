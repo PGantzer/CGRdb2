{
 "cells": [
  {
   "cell_type": "code",
   "execution_count": null,
   "metadata": {},
   "outputs": [],
   "source": [
    "from pony.orm import db_session\n",
    "from CGRdb.database import db\n",
    "from CGRtools import smiles\n",
    "from CGRdb.database import Substance\n",
    "from multiprocessing import Process, Queue\n",
    "from tqdm import tqdm\n",
    "import zipfile"
   ]
  },
  {
   "cell_type": "code",
   "execution_count": null,
   "metadata": {},
   "outputs": [],
   "source": [
    "# Connection to the database\n",
    "db.bind(provider='postgres', user='postgres', host='localhost', password=\"example\", database='test',\n",
    "        port=5432)\n",
    "db.generate_mapping(create_tables=True)"
   ]
  },
  {
   "cell_type": "code",
   "execution_count": null,
   "metadata": {},
   "outputs": [],
   "source": [
    "# initialize parameres for fingerprint and LSH\n",
    "from CGRdb.database.config import Config\n",
    "Config(key=\"fingerprint\",value={})\n",
    "Config(key=\"lsh_num_permute\",value=64)\n",
    "Config(key=\"lsh_threshold\",value=0.7)\n",
    "db.commit()\n",
    "db.disconnect()"
   ]
  },
  {
   "cell_type": "code",
   "execution_count": null,
   "metadata": {},
   "outputs": [],
   "source": [
    "def worker(q):\n",
    "    db.bind(provider='postgres', user='postgres', host='localhost', password=\"example\", database='test',\n",
    "        port=5432)\n",
    "    db.generate_mapping()\n",
    "    while True:\n",
    "        data = q.get()\n",
    "        if data is None:\n",
    "            break\n",
    "        for i in data:\n",
    "            mol, label = i\n",
    "            mol = smiles(mol)\n",
    "            subs = [(x,None) for x in mol.split()]\n",
    "            for _ in range(10):\n",
    "                try:\n",
    "                    with db_session():\n",
    "                        Substance(subs)\n",
    "                        break\n",
    "                except Exception:\n",
    "                    continue\n",
    "    print(\"finished\")"
   ]
  },
  {
   "cell_type": "code",
   "execution_count": null,
   "metadata": {
    "scrolled": true
   },
   "outputs": [],
   "source": [
    "q = Queue(maxsize=30)\n",
    "num_workers=20\n",
    "pr = [Process(target=worker, \n",
    "              args=[q]) for _ in range(num_workers)]\n",
    "[p.start() for p in pr]"
   ]
  },
  {
   "cell_type": "code",
   "execution_count": null,
   "metadata": {},
   "outputs": [],
   "source": [
    "with zipfile.ZipFile(\"../dataset/Chembl28_cleaned_06_07_2021.smi.zip\", 'r') as zip_ref:\n",
    "    zip_ref.extractall(\"\")\n",
    "with open(\"Chembl28_cleaned_06_07_2021.smi\",) as f:\n",
    "    tmp = []\n",
    "    for n, row in tqdm(enumerate(f)):\n",
    "        columns = row.rstrip('\\n').lstrip().split(\" \")\n",
    "        smi = columns[0]\n",
    "        idx = None\n",
    "        if len(columns) > 1:\n",
    "            if columns[1].startswith(\"|\"):\n",
    "                smi += columns[1]\n",
    "                if len(columns) > 2:\n",
    "                    idx = columns[2]\n",
    "            else:\n",
    "                idx = columns[1]\n",
    "        if not idx:\n",
    "            idx = n\n",
    "        tmp.append((smi, idx))\n",
    "        if len(tmp) == 1000:\n",
    "            q.put(tmp)\n",
    "            tmp = []\n",
    "    else:\n",
    "        q.put(tmp)\n",
    "    for i in range(num_workers):\n",
    "        q.put(None)"
   ]
  },
  {
   "cell_type": "code",
   "execution_count": null,
   "metadata": {},
   "outputs": [],
   "source": []
  }
 ],
 "metadata": {
  "kernelspec": {
   "display_name": "last_cgr",
   "language": "python",
   "name": "last_cgr"
  },
  "language_info": {
   "codemirror_mode": {
    "name": "ipython",
    "version": 3
   },
   "file_extension": ".py",
   "mimetype": "text/x-python",
   "name": "python",
   "nbconvert_exporter": "python",
   "pygments_lexer": "ipython3",
   "version": "3.8.0"
  }
 },
 "nbformat": 4,
 "nbformat_minor": 5
}